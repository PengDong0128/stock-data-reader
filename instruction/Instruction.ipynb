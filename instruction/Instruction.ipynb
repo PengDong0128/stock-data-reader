{
 "cells": [
  {
   "cell_type": "markdown",
   "metadata": {},
   "source": [
    "# Stock Data Reader"
   ]
  },
  {
   "cell_type": "markdown",
   "metadata": {},
   "source": [
    "## Abstract:\n",
    "### This module is for financial dataset construction. The functions of this module include:\n",
    "- Importing daily price data for stocks.\n",
    "- Importing S&P500 daily index.\n",
    "- Importing external dataset (daily,anual)\n",
    "- Importing sentiment data from Quandl (you need to subscribe this service)\n",
    "- Merging datasets before\n",
    "- Flexibly constructing features based on the dataset merged\n",
    "- Customizing the data structure (rolling & un-rolling) and time window for the dataset\n",
    "### Motivation:\n",
    "- Constructing dataset could be quite annoying when doing financial researches. You need to collect data from different sources, merge them(This could be more annoying when they have different frequency), and construct the features with different structures and time windows.In this module , you can just adjust several variables, then all these works could be easily achieved.\n",
    "### Data Source:\n",
    "- Price and sentiment data are collected from Quandl.com\n",
    "- S&P500 Index is collected from Yahoo Finance\n",
    "- There is also a port for importing external data"
   ]
  },
  {
   "cell_type": "markdown",
   "metadata": {},
   "source": [
    "## Instruction"
   ]
  },
  {
   "cell_type": "markdown",
   "metadata": {},
   "source": [
    "### For using this module , you must have an API Key for quandl.com. You just need to sign up on the webpage and find API Key in your account setting. If you want to use sentiment data , you have to subscribe \"FinSentS Web News Sentiment\", the link is https://www.quandl.com/data/NS1-FinSentS-Web-News-Sentiment ."
   ]
  },
  {
   "cell_type": "markdown",
   "metadata": {},
   "source": [
    "### Import the module and initialize it:"
   ]
  },
  {
   "cell_type": "code",
   "execution_count": 1,
   "metadata": {
    "collapsed": true
   },
   "outputs": [],
   "source": [
    "from stock_data_reader import StockDataReader\n",
    "reader = StockDataReader(\"your_api_key\")"
   ]
  },
  {
   "cell_type": "markdown",
   "metadata": {},
   "source": [
    "### Read price and sentiment data from quandl:"
   ]
  },
  {
   "cell_type": "markdown",
   "metadata": {},
   "source": [
    "- In this step, date_start should be one or two years before the start date you finally want to get. Because when you are calculating some features like moving average and Beta,you will need to use data before that final start date."
   ]
  },
  {
   "cell_type": "code",
   "execution_count": 11,
   "metadata": {
    "collapsed": true
   },
   "outputs": [],
   "source": [
    "reader.initialize_data('CF',date_start='2001-01-01',date_end='2016-12-31',sentiment=True)"
   ]
  },
  {
   "cell_type": "markdown",
   "metadata": {},
   "source": [
    "### Price table:"
   ]
  },
  {
   "cell_type": "code",
   "execution_count": 12,
   "metadata": {
    "collapsed": false
   },
   "outputs": [
    {
     "data": {
      "text/html": [
       "<div>\n",
       "<table border=\"1\" class=\"dataframe\">\n",
       "  <thead>\n",
       "    <tr style=\"text-align: right;\">\n",
       "      <th></th>\n",
       "      <th>date</th>\n",
       "      <th>adj_close</th>\n",
       "      <th>adj_volume</th>\n",
       "    </tr>\n",
       "    <tr>\n",
       "      <th>None</th>\n",
       "      <th></th>\n",
       "      <th></th>\n",
       "      <th></th>\n",
       "    </tr>\n",
       "  </thead>\n",
       "  <tbody>\n",
       "    <tr>\n",
       "      <th>0</th>\n",
       "      <td>2005-08-11</td>\n",
       "      <td>2.810457</td>\n",
       "      <td>76671500.0</td>\n",
       "    </tr>\n",
       "    <tr>\n",
       "      <th>1</th>\n",
       "      <td>2005-08-12</td>\n",
       "      <td>3.110586</td>\n",
       "      <td>29113500.0</td>\n",
       "    </tr>\n",
       "    <tr>\n",
       "      <th>2</th>\n",
       "      <td>2005-08-15</td>\n",
       "      <td>3.001290</td>\n",
       "      <td>10596500.0</td>\n",
       "    </tr>\n",
       "    <tr>\n",
       "      <th>3</th>\n",
       "      <td>2005-08-16</td>\n",
       "      <td>2.975268</td>\n",
       "      <td>5141000.0</td>\n",
       "    </tr>\n",
       "    <tr>\n",
       "      <th>4</th>\n",
       "      <td>2005-08-17</td>\n",
       "      <td>2.923222</td>\n",
       "      <td>6423500.0</td>\n",
       "    </tr>\n",
       "  </tbody>\n",
       "</table>\n",
       "</div>"
      ],
      "text/plain": [
       "           date  adj_close  adj_volume\n",
       "None                                  \n",
       "0    2005-08-11   2.810457  76671500.0\n",
       "1    2005-08-12   3.110586  29113500.0\n",
       "2    2005-08-15   3.001290  10596500.0\n",
       "3    2005-08-16   2.975268   5141000.0\n",
       "4    2005-08-17   2.923222   6423500.0"
      ]
     },
     "execution_count": 12,
     "metadata": {},
     "output_type": "execute_result"
    }
   ],
   "source": [
    "reader.price_table.head(5)"
   ]
  },
  {
   "cell_type": "markdown",
   "metadata": {},
   "source": [
    "### Sentiment table"
   ]
  },
  {
   "cell_type": "code",
   "execution_count": 13,
   "metadata": {
    "collapsed": false
   },
   "outputs": [
    {
     "data": {
      "text/html": [
       "<div>\n",
       "<table border=\"1\" class=\"dataframe\">\n",
       "  <thead>\n",
       "    <tr style=\"text-align: right;\">\n",
       "      <th></th>\n",
       "      <th>Date</th>\n",
       "      <th>Sentiment</th>\n",
       "      <th>News Volume</th>\n",
       "      <th>News Buzz</th>\n",
       "    </tr>\n",
       "  </thead>\n",
       "  <tbody>\n",
       "    <tr>\n",
       "      <th>0</th>\n",
       "      <td>2013-01-01</td>\n",
       "      <td>5.0</td>\n",
       "      <td>1.0</td>\n",
       "      <td>10.0</td>\n",
       "    </tr>\n",
       "    <tr>\n",
       "      <th>1</th>\n",
       "      <td>2013-01-02</td>\n",
       "      <td>0.0</td>\n",
       "      <td>0.0</td>\n",
       "      <td>0.0</td>\n",
       "    </tr>\n",
       "    <tr>\n",
       "      <th>2</th>\n",
       "      <td>2013-01-03</td>\n",
       "      <td>0.0</td>\n",
       "      <td>0.0</td>\n",
       "      <td>0.0</td>\n",
       "    </tr>\n",
       "    <tr>\n",
       "      <th>3</th>\n",
       "      <td>2013-01-04</td>\n",
       "      <td>0.0</td>\n",
       "      <td>0.0</td>\n",
       "      <td>0.0</td>\n",
       "    </tr>\n",
       "    <tr>\n",
       "      <th>4</th>\n",
       "      <td>2013-01-05</td>\n",
       "      <td>0.0</td>\n",
       "      <td>0.0</td>\n",
       "      <td>0.0</td>\n",
       "    </tr>\n",
       "  </tbody>\n",
       "</table>\n",
       "</div>"
      ],
      "text/plain": [
       "        Date  Sentiment  News Volume  News Buzz\n",
       "0 2013-01-01        5.0          1.0       10.0\n",
       "1 2013-01-02        0.0          0.0        0.0\n",
       "2 2013-01-03        0.0          0.0        0.0\n",
       "3 2013-01-04        0.0          0.0        0.0\n",
       "4 2013-01-05        0.0          0.0        0.0"
      ]
     },
     "execution_count": 13,
     "metadata": {},
     "output_type": "execute_result"
    }
   ],
   "source": [
    "reader.sentiment_table.head(5)#sentiment data is only available from 2013"
   ]
  },
  {
   "cell_type": "markdown",
   "metadata": {},
   "source": [
    "## Read S&P500 Index\n",
    "- For constructing multiple datasets for different stocks, you just need to import index data once."
   ]
  },
  {
   "cell_type": "code",
   "execution_count": 6,
   "metadata": {
    "collapsed": true
   },
   "outputs": [],
   "source": [
    "reader.read_index('2001-01-01','2016-12-31')"
   ]
  },
  {
   "cell_type": "code",
   "execution_count": 7,
   "metadata": {
    "collapsed": false
   },
   "outputs": [
    {
     "data": {
      "text/html": [
       "<div>\n",
       "<table border=\"1\" class=\"dataframe\">\n",
       "  <thead>\n",
       "    <tr style=\"text-align: right;\">\n",
       "      <th></th>\n",
       "      <th>date</th>\n",
       "      <th>sp_adj_close</th>\n",
       "      <th>sp_volume</th>\n",
       "    </tr>\n",
       "  </thead>\n",
       "  <tbody>\n",
       "    <tr>\n",
       "      <th>0</th>\n",
       "      <td>2016-12-30</td>\n",
       "      <td>2238.830078</td>\n",
       "      <td>2.670900e+09</td>\n",
       "    </tr>\n",
       "    <tr>\n",
       "      <th>1</th>\n",
       "      <td>2016-12-29</td>\n",
       "      <td>2249.260010</td>\n",
       "      <td>2.336370e+09</td>\n",
       "    </tr>\n",
       "    <tr>\n",
       "      <th>2</th>\n",
       "      <td>2016-12-28</td>\n",
       "      <td>2249.919922</td>\n",
       "      <td>2.392360e+09</td>\n",
       "    </tr>\n",
       "    <tr>\n",
       "      <th>3</th>\n",
       "      <td>2016-12-27</td>\n",
       "      <td>2268.879883</td>\n",
       "      <td>1.987080e+09</td>\n",
       "    </tr>\n",
       "    <tr>\n",
       "      <th>4</th>\n",
       "      <td>2016-12-23</td>\n",
       "      <td>2263.790039</td>\n",
       "      <td>2.020550e+09</td>\n",
       "    </tr>\n",
       "  </tbody>\n",
       "</table>\n",
       "</div>"
      ],
      "text/plain": [
       "        date  sp_adj_close     sp_volume\n",
       "0 2016-12-30   2238.830078  2.670900e+09\n",
       "1 2016-12-29   2249.260010  2.336370e+09\n",
       "2 2016-12-28   2249.919922  2.392360e+09\n",
       "3 2016-12-27   2268.879883  1.987080e+09\n",
       "4 2016-12-23   2263.790039  2.020550e+09"
      ]
     },
     "execution_count": 7,
     "metadata": {},
     "output_type": "execute_result"
    }
   ],
   "source": [
    "reader.sp500_table.head(5)"
   ]
  },
  {
   "cell_type": "markdown",
   "metadata": {},
   "source": [
    "## Read external data:\n",
    "- In this section, the fundamental dataset I use is downloaded from Compustat\n",
    "- The variable 'y' means that I'm using anual data. You can also set it as 'd' for using daily data. If you want to use hybrid data, please first merge them into daily dataset (this is quite a simple work)  and set the variable as 'd'.\n",
    "- For constructing multiple datasets for different stocks, you just need to import external data once."
   ]
  },
  {
   "cell_type": "code",
   "execution_count": 8,
   "metadata": {
    "collapsed": true
   },
   "outputs": [],
   "source": [
    "reader.read_external('basic_stats.csv','y')"
   ]
  },
  {
   "cell_type": "code",
   "execution_count": 9,
   "metadata": {
    "collapsed": false
   },
   "outputs": [
    {
     "data": {
      "text/html": [
       "<div>\n",
       "<table border=\"1\" class=\"dataframe\">\n",
       "  <thead>\n",
       "    <tr style=\"text-align: right;\">\n",
       "      <th></th>\n",
       "      <th>fyear</th>\n",
       "      <th>tic</th>\n",
       "      <th>ceql</th>\n",
       "      <th>csho</th>\n",
       "      <th>ni</th>\n",
       "      <th>sale</th>\n",
       "    </tr>\n",
       "  </thead>\n",
       "  <tbody>\n",
       "    <tr>\n",
       "      <th>0</th>\n",
       "      <td>2001</td>\n",
       "      <td>PNW</td>\n",
       "      <td>2499.323</td>\n",
       "      <td>84.825</td>\n",
       "      <td>312.166</td>\n",
       "      <td>4551.373</td>\n",
       "    </tr>\n",
       "    <tr>\n",
       "      <th>1</th>\n",
       "      <td>2002</td>\n",
       "      <td>PNW</td>\n",
       "      <td>2686.153</td>\n",
       "      <td>91.255</td>\n",
       "      <td>149.408</td>\n",
       "      <td>2637.279</td>\n",
       "    </tr>\n",
       "    <tr>\n",
       "      <th>2</th>\n",
       "      <td>2003</td>\n",
       "      <td>PNW</td>\n",
       "      <td>2829.779</td>\n",
       "      <td>91.288</td>\n",
       "      <td>240.579</td>\n",
       "      <td>2817.852</td>\n",
       "    </tr>\n",
       "    <tr>\n",
       "      <th>3</th>\n",
       "      <td>2004</td>\n",
       "      <td>PNW</td>\n",
       "      <td>2950.196</td>\n",
       "      <td>91.793</td>\n",
       "      <td>243.195</td>\n",
       "      <td>2899.725</td>\n",
       "    </tr>\n",
       "    <tr>\n",
       "      <th>4</th>\n",
       "      <td>2005</td>\n",
       "      <td>PNW</td>\n",
       "      <td>3424.964</td>\n",
       "      <td>99.057</td>\n",
       "      <td>176.267</td>\n",
       "      <td>2987.955</td>\n",
       "    </tr>\n",
       "  </tbody>\n",
       "</table>\n",
       "</div>"
      ],
      "text/plain": [
       "   fyear  tic      ceql    csho       ni      sale\n",
       "0   2001  PNW  2499.323  84.825  312.166  4551.373\n",
       "1   2002  PNW  2686.153  91.255  149.408  2637.279\n",
       "2   2003  PNW  2829.779  91.288  240.579  2817.852\n",
       "3   2004  PNW  2950.196  91.793  243.195  2899.725\n",
       "4   2005  PNW  3424.964  99.057  176.267  2987.955"
      ]
     },
     "execution_count": 9,
     "metadata": {},
     "output_type": "execute_result"
    }
   ],
   "source": [
    "reader.external_table.head(5) \n",
    "# The ticker is not for IBM, but IBM is contained in this dataset.\n",
    "# This is an anual dataset"
   ]
  },
  {
   "cell_type": "markdown",
   "metadata": {},
   "source": [
    "## Merge datasets and construct features:"
   ]
  },
  {
   "cell_type": "markdown",
   "metadata": {},
   "source": [
    "### If you don't want to do any feature construction, you can just merge datasets simply:"
   ]
  },
  {
   "cell_type": "code",
   "execution_count": 14,
   "metadata": {
    "collapsed": false
   },
   "outputs": [],
   "source": [
    "dat = reader.merge_table()"
   ]
  },
  {
   "cell_type": "code",
   "execution_count": 15,
   "metadata": {
    "collapsed": false
   },
   "outputs": [
    {
     "data": {
      "text/html": [
       "<div>\n",
       "<table border=\"1\" class=\"dataframe\">\n",
       "  <thead>\n",
       "    <tr style=\"text-align: right;\">\n",
       "      <th></th>\n",
       "      <th>date</th>\n",
       "      <th>adj_close</th>\n",
       "      <th>adj_volume</th>\n",
       "      <th>Sentiment</th>\n",
       "      <th>News Volume</th>\n",
       "      <th>News Buzz</th>\n",
       "      <th>tic</th>\n",
       "      <th>ceql</th>\n",
       "      <th>csho</th>\n",
       "      <th>ni</th>\n",
       "      <th>sale</th>\n",
       "      <th>sp_adj_close</th>\n",
       "      <th>sp_volume</th>\n",
       "    </tr>\n",
       "  </thead>\n",
       "  <tbody>\n",
       "    <tr>\n",
       "      <th>2863</th>\n",
       "      <td>2016-12-23</td>\n",
       "      <td>30.445183</td>\n",
       "      <td>5475503.0</td>\n",
       "      <td>0.0</td>\n",
       "      <td>0.0</td>\n",
       "      <td>0.0</td>\n",
       "      <td>CF</td>\n",
       "      <td>3348.0</td>\n",
       "      <td>233.114</td>\n",
       "      <td>-277.0</td>\n",
       "      <td>3685.0</td>\n",
       "      <td>2263.790039</td>\n",
       "      <td>2.020550e+09</td>\n",
       "    </tr>\n",
       "    <tr>\n",
       "      <th>2864</th>\n",
       "      <td>2016-12-27</td>\n",
       "      <td>31.674490</td>\n",
       "      <td>6222852.0</td>\n",
       "      <td>0.0</td>\n",
       "      <td>0.0</td>\n",
       "      <td>0.0</td>\n",
       "      <td>CF</td>\n",
       "      <td>3348.0</td>\n",
       "      <td>233.114</td>\n",
       "      <td>-277.0</td>\n",
       "      <td>3685.0</td>\n",
       "      <td>2268.879883</td>\n",
       "      <td>1.987080e+09</td>\n",
       "    </tr>\n",
       "    <tr>\n",
       "      <th>2865</th>\n",
       "      <td>2016-12-28</td>\n",
       "      <td>31.357249</td>\n",
       "      <td>3653427.0</td>\n",
       "      <td>-2.0</td>\n",
       "      <td>10.0</td>\n",
       "      <td>3.0</td>\n",
       "      <td>CF</td>\n",
       "      <td>3348.0</td>\n",
       "      <td>233.114</td>\n",
       "      <td>-277.0</td>\n",
       "      <td>3685.0</td>\n",
       "      <td>2249.919922</td>\n",
       "      <td>2.392360e+09</td>\n",
       "    </tr>\n",
       "    <tr>\n",
       "      <th>2866</th>\n",
       "      <td>2016-12-29</td>\n",
       "      <td>31.624921</td>\n",
       "      <td>4220127.0</td>\n",
       "      <td>-2.0</td>\n",
       "      <td>3.0</td>\n",
       "      <td>1.0</td>\n",
       "      <td>CF</td>\n",
       "      <td>3348.0</td>\n",
       "      <td>233.114</td>\n",
       "      <td>-277.0</td>\n",
       "      <td>3685.0</td>\n",
       "      <td>2249.260010</td>\n",
       "      <td>2.336370e+09</td>\n",
       "    </tr>\n",
       "    <tr>\n",
       "      <th>2867</th>\n",
       "      <td>2016-12-30</td>\n",
       "      <td>31.208543</td>\n",
       "      <td>4181315.0</td>\n",
       "      <td>0.0</td>\n",
       "      <td>0.0</td>\n",
       "      <td>0.0</td>\n",
       "      <td>CF</td>\n",
       "      <td>3348.0</td>\n",
       "      <td>233.114</td>\n",
       "      <td>-277.0</td>\n",
       "      <td>3685.0</td>\n",
       "      <td>2238.830078</td>\n",
       "      <td>2.670900e+09</td>\n",
       "    </tr>\n",
       "  </tbody>\n",
       "</table>\n",
       "</div>"
      ],
      "text/plain": [
       "           date  adj_close  adj_volume  Sentiment  News Volume  News Buzz tic  \\\n",
       "2863 2016-12-23  30.445183   5475503.0        0.0          0.0        0.0  CF   \n",
       "2864 2016-12-27  31.674490   6222852.0        0.0          0.0        0.0  CF   \n",
       "2865 2016-12-28  31.357249   3653427.0       -2.0         10.0        3.0  CF   \n",
       "2866 2016-12-29  31.624921   4220127.0       -2.0          3.0        1.0  CF   \n",
       "2867 2016-12-30  31.208543   4181315.0        0.0          0.0        0.0  CF   \n",
       "\n",
       "        ceql     csho     ni    sale  sp_adj_close     sp_volume  \n",
       "2863  3348.0  233.114 -277.0  3685.0   2263.790039  2.020550e+09  \n",
       "2864  3348.0  233.114 -277.0  3685.0   2268.879883  1.987080e+09  \n",
       "2865  3348.0  233.114 -277.0  3685.0   2249.919922  2.392360e+09  \n",
       "2866  3348.0  233.114 -277.0  3685.0   2249.260010  2.336370e+09  \n",
       "2867  3348.0  233.114 -277.0  3685.0   2238.830078  2.670900e+09  "
      ]
     },
     "execution_count": 15,
     "metadata": {},
     "output_type": "execute_result"
    }
   ],
   "source": [
    "dat.iloc[-5:,:]"
   ]
  },
  {
   "cell_type": "markdown",
   "metadata": {},
   "source": [
    "## If you want to construct features, you don't have to call merge_table(), just simply import a dictionary in format '{'feature_name':function}, and call feature():"
   ]
  },
  {
   "cell_type": "code",
   "execution_count": 16,
   "metadata": {
    "collapsed": true
   },
   "outputs": [],
   "source": [
    "def pe(dat):\n",
    "    eps = dat['ni']/dat['csho']\n",
    "    return dat['adj_close']/eps\n",
    "def price_to_book_value(dat):\n",
    "    book = dat['ceql']/dat['csho']\n",
    "    return dat['adj_close']/book\n",
    "def ps(dat):\n",
    "    sps = dat['sale']/dat['csho']\n",
    "    return dat['adj_close']/sps\n",
    "def daily_return(dat):\n",
    "    return (dat['adj_close']/(dat['adj_close'].shift(1))-1)*100\n",
    "def average_20(dat):\n",
    "    moving = dat['adj_close'].rolling(window=21,center=False).mean()\n",
    "    return moving\n",
    "def beta(dat):\n",
    "    ret_price = (dat['adj_close']/(dat['adj_close'].shift(1))-1)*100\n",
    "    ret_sp = (dat['sp_adj_close']/(dat['sp_adj_close'].shift(1))-1)*100\n",
    "    beta = (ret_price.rolling(window=252,center=False).cov(ret_sp))/(ret_sp.rolling(window=252,center=False).var())\n",
    "    return beta\n",
    "feature_dic = {'pe':pe,\n",
    "               'price_to_book_value':price_to_book_value,\n",
    "               'ps':ps,\n",
    "               '20mean':average_20,\n",
    "               'return':daily_return,\n",
    "               'beta':beta}"
   ]
  },
  {
   "cell_type": "markdown",
   "metadata": {},
   "source": [
    "### It will return an index with all the column names in the dataset"
   ]
  },
  {
   "cell_type": "code",
   "execution_count": 18,
   "metadata": {
    "collapsed": false
   },
   "outputs": [
    {
     "data": {
      "text/plain": [
       "Index(['date', 'adj_close', 'adj_volume', 'Sentiment', 'News Volume',\n",
       "       'News Buzz', 'tic', 'ceql', 'csho', 'ni', 'sale', 'sp_adj_close',\n",
       "       'sp_volume', 'pe', 'price_to_book_value', 'ps', '20mean', 'return',\n",
       "       'beta'],\n",
       "      dtype='object')"
      ]
     },
     "execution_count": 18,
     "metadata": {},
     "output_type": "execute_result"
    }
   ],
   "source": [
    "reader.feature(feature_dic)"
   ]
  },
  {
   "cell_type": "markdown",
   "metadata": {},
   "source": [
    "## Trim the dataset\n",
    "- You can select out the features which you want to put in the final dataset by calling trim()"
   ]
  },
  {
   "cell_type": "code",
   "execution_count": 23,
   "metadata": {
    "collapsed": true
   },
   "outputs": [],
   "source": [
    "feature_list = ['date','adj_close','pe','price_to_book_value','ps','20mean','beta','return']"
   ]
  },
  {
   "cell_type": "markdown",
   "metadata": {},
   "source": [
    "### It will return an index contains all the features which will appear in your final dataset"
   ]
  },
  {
   "cell_type": "code",
   "execution_count": 24,
   "metadata": {
    "collapsed": false
   },
   "outputs": [
    {
     "name": "stdout",
     "output_type": "stream",
     "text": [
      "Index(['date', 'adj_close', 'pe', 'price_to_book_value', 'ps', '20mean',\n",
      "       'beta', 'return'],\n",
      "      dtype='object')\n"
     ]
    }
   ],
   "source": [
    "reader.trim(feature_list)"
   ]
  },
  {
   "cell_type": "code",
   "execution_count": 25,
   "metadata": {
    "collapsed": false
   },
   "outputs": [
    {
     "data": {
      "text/html": [
       "<div>\n",
       "<table border=\"1\" class=\"dataframe\">\n",
       "  <thead>\n",
       "    <tr style=\"text-align: right;\">\n",
       "      <th></th>\n",
       "      <th>date</th>\n",
       "      <th>adj_close</th>\n",
       "      <th>pe</th>\n",
       "      <th>price_to_book_value</th>\n",
       "      <th>ps</th>\n",
       "      <th>20mean</th>\n",
       "      <th>beta</th>\n",
       "      <th>return</th>\n",
       "    </tr>\n",
       "  </thead>\n",
       "  <tbody>\n",
       "    <tr>\n",
       "      <th>2863</th>\n",
       "      <td>2016-12-23</td>\n",
       "      <td>30.445183</td>\n",
       "      <td>-25.621654</td>\n",
       "      <td>2.119832</td>\n",
       "      <td>1.925970</td>\n",
       "      <td>28.752289</td>\n",
       "      <td>1.470747</td>\n",
       "      <td>1.992693</td>\n",
       "    </tr>\n",
       "    <tr>\n",
       "      <th>2864</th>\n",
       "      <td>2016-12-27</td>\n",
       "      <td>31.674490</td>\n",
       "      <td>-26.656199</td>\n",
       "      <td>2.205426</td>\n",
       "      <td>2.003736</td>\n",
       "      <td>28.912797</td>\n",
       "      <td>1.471948</td>\n",
       "      <td>4.037773</td>\n",
       "    </tr>\n",
       "    <tr>\n",
       "      <th>2865</th>\n",
       "      <td>2016-12-28</td>\n",
       "      <td>31.357249</td>\n",
       "      <td>-26.389219</td>\n",
       "      <td>2.183337</td>\n",
       "      <td>1.983667</td>\n",
       "      <td>29.075194</td>\n",
       "      <td>1.473355</td>\n",
       "      <td>-1.001565</td>\n",
       "    </tr>\n",
       "    <tr>\n",
       "      <th>2866</th>\n",
       "      <td>2016-12-29</td>\n",
       "      <td>31.624921</td>\n",
       "      <td>-26.614483</td>\n",
       "      <td>2.201975</td>\n",
       "      <td>2.000600</td>\n",
       "      <td>29.286216</td>\n",
       "      <td>1.462744</td>\n",
       "      <td>0.853620</td>\n",
       "    </tr>\n",
       "    <tr>\n",
       "      <th>2867</th>\n",
       "      <td>2016-12-30</td>\n",
       "      <td>31.208543</td>\n",
       "      <td>-26.264073</td>\n",
       "      <td>2.172983</td>\n",
       "      <td>1.974260</td>\n",
       "      <td>29.406125</td>\n",
       "      <td>1.467886</td>\n",
       "      <td>-1.316614</td>\n",
       "    </tr>\n",
       "  </tbody>\n",
       "</table>\n",
       "</div>"
      ],
      "text/plain": [
       "           date  adj_close         pe  price_to_book_value        ps  \\\n",
       "2863 2016-12-23  30.445183 -25.621654             2.119832  1.925970   \n",
       "2864 2016-12-27  31.674490 -26.656199             2.205426  2.003736   \n",
       "2865 2016-12-28  31.357249 -26.389219             2.183337  1.983667   \n",
       "2866 2016-12-29  31.624921 -26.614483             2.201975  2.000600   \n",
       "2867 2016-12-30  31.208543 -26.264073             2.172983  1.974260   \n",
       "\n",
       "         20mean      beta    return  \n",
       "2863  28.752289  1.470747  1.992693  \n",
       "2864  28.912797  1.471948  4.037773  \n",
       "2865  29.075194  1.473355 -1.001565  \n",
       "2866  29.286216  1.462744  0.853620  \n",
       "2867  29.406125  1.467886 -1.316614  "
      ]
     },
     "execution_count": 25,
     "metadata": {},
     "output_type": "execute_result"
    }
   ],
   "source": [
    "reader.table.iloc[-5:,:]"
   ]
  },
  {
   "cell_type": "markdown",
   "metadata": {},
   "source": [
    "## The last step is to construct the dataset:\n",
    "- There are two kinds of data structures: rolling data and un-rolling data\n",
    "- With a time window of 4 days, rolling data contains data 4-days ago, un-rolling data contains data from yesterday to 4-days ago."
   ]
  },
  {
   "cell_type": "code",
   "execution_count": 26,
   "metadata": {
    "collapsed": false
   },
   "outputs": [
    {
     "name": "stdout",
     "output_type": "stream",
     "text": [
      "Index(['date', 'adj_close', 'pe'], dtype='object')\n"
     ]
    }
   ],
   "source": [
    "# trim the dataset to make it more clear\n",
    "reader.trim(['date','adj_close','pe'])"
   ]
  },
  {
   "cell_type": "code",
   "execution_count": 28,
   "metadata": {
    "collapsed": false
   },
   "outputs": [],
   "source": [
    "dat1 = reader.construct_data(rolling=False, time_window=5,thresh_date='2009-01-01')"
   ]
  },
  {
   "cell_type": "code",
   "execution_count": 30,
   "metadata": {
    "collapsed": false
   },
   "outputs": [
    {
     "data": {
      "text/html": [
       "<div>\n",
       "<table border=\"1\" class=\"dataframe\">\n",
       "  <thead>\n",
       "    <tr style=\"text-align: right;\">\n",
       "      <th></th>\n",
       "      <th>date</th>\n",
       "      <th>adj_close</th>\n",
       "      <th>5day_adj_close</th>\n",
       "      <th>5day_pe</th>\n",
       "    </tr>\n",
       "  </thead>\n",
       "  <tbody>\n",
       "    <tr>\n",
       "      <th>854</th>\n",
       "      <td>2009-01-02</td>\n",
       "      <td>9.415645</td>\n",
       "      <td>8.095383</td>\n",
       "      <td>0.572235</td>\n",
       "    </tr>\n",
       "    <tr>\n",
       "      <th>855</th>\n",
       "      <td>2009-01-05</td>\n",
       "      <td>9.937079</td>\n",
       "      <td>8.216524</td>\n",
       "      <td>0.580798</td>\n",
       "    </tr>\n",
       "    <tr>\n",
       "      <th>856</th>\n",
       "      <td>2009-01-06</td>\n",
       "      <td>9.703575</td>\n",
       "      <td>8.198968</td>\n",
       "      <td>0.579557</td>\n",
       "    </tr>\n",
       "    <tr>\n",
       "      <th>857</th>\n",
       "      <td>2009-01-07</td>\n",
       "      <td>9.354197</td>\n",
       "      <td>8.362245</td>\n",
       "      <td>0.591098</td>\n",
       "    </tr>\n",
       "    <tr>\n",
       "      <th>858</th>\n",
       "      <td>2009-01-08</td>\n",
       "      <td>9.598235</td>\n",
       "      <td>8.630862</td>\n",
       "      <td>0.610086</td>\n",
       "    </tr>\n",
       "  </tbody>\n",
       "</table>\n",
       "</div>"
      ],
      "text/plain": [
       "          date  adj_close  5day_adj_close   5day_pe\n",
       "854 2009-01-02   9.415645        8.095383  0.572235\n",
       "855 2009-01-05   9.937079        8.216524  0.580798\n",
       "856 2009-01-06   9.703575        8.198968  0.579557\n",
       "857 2009-01-07   9.354197        8.362245  0.591098\n",
       "858 2009-01-08   9.598235        8.630862  0.610086"
      ]
     },
     "execution_count": 30,
     "metadata": {},
     "output_type": "execute_result"
    }
   ],
   "source": [
    "dat1.head(5)"
   ]
  },
  {
   "cell_type": "code",
   "execution_count": 31,
   "metadata": {
    "collapsed": false
   },
   "outputs": [
    {
     "data": {
      "text/html": [
       "<div>\n",
       "<table border=\"1\" class=\"dataframe\">\n",
       "  <thead>\n",
       "    <tr style=\"text-align: right;\">\n",
       "      <th></th>\n",
       "      <th>date</th>\n",
       "      <th>adj_close</th>\n",
       "      <th>1day_adj_close</th>\n",
       "      <th>1day_pe</th>\n",
       "      <th>2day_adj_close</th>\n",
       "      <th>2day_pe</th>\n",
       "      <th>3day_adj_close</th>\n",
       "      <th>3day_pe</th>\n",
       "    </tr>\n",
       "  </thead>\n",
       "  <tbody>\n",
       "    <tr>\n",
       "      <th>1610</th>\n",
       "      <td>2012-01-03</td>\n",
       "      <td>27.443501</td>\n",
       "      <td>25.868011</td>\n",
       "      <td>1.099475</td>\n",
       "      <td>25.691371</td>\n",
       "      <td>1.091967</td>\n",
       "      <td>25.380912</td>\n",
       "      <td>1.078771</td>\n",
       "    </tr>\n",
       "    <tr>\n",
       "      <th>1611</th>\n",
       "      <td>2012-01-04</td>\n",
       "      <td>28.189317</td>\n",
       "      <td>27.443501</td>\n",
       "      <td>0.934492</td>\n",
       "      <td>25.868011</td>\n",
       "      <td>1.099475</td>\n",
       "      <td>25.691371</td>\n",
       "      <td>1.091967</td>\n",
       "    </tr>\n",
       "    <tr>\n",
       "      <th>1612</th>\n",
       "      <td>2012-01-05</td>\n",
       "      <td>28.487286</td>\n",
       "      <td>28.189317</td>\n",
       "      <td>0.959888</td>\n",
       "      <td>27.443501</td>\n",
       "      <td>0.934492</td>\n",
       "      <td>25.868011</td>\n",
       "      <td>1.099475</td>\n",
       "    </tr>\n",
       "    <tr>\n",
       "      <th>1613</th>\n",
       "      <td>2012-01-06</td>\n",
       "      <td>28.189317</td>\n",
       "      <td>28.487286</td>\n",
       "      <td>0.970035</td>\n",
       "      <td>28.189317</td>\n",
       "      <td>0.959888</td>\n",
       "      <td>27.443501</td>\n",
       "      <td>0.934492</td>\n",
       "    </tr>\n",
       "    <tr>\n",
       "      <th>1614</th>\n",
       "      <td>2012-01-09</td>\n",
       "      <td>28.512265</td>\n",
       "      <td>28.189317</td>\n",
       "      <td>0.959888</td>\n",
       "      <td>28.487286</td>\n",
       "      <td>0.970035</td>\n",
       "      <td>28.189317</td>\n",
       "      <td>0.959888</td>\n",
       "    </tr>\n",
       "    <tr>\n",
       "      <th>1615</th>\n",
       "      <td>2012-01-10</td>\n",
       "      <td>29.655968</td>\n",
       "      <td>28.512265</td>\n",
       "      <td>0.970885</td>\n",
       "      <td>28.189317</td>\n",
       "      <td>0.959888</td>\n",
       "      <td>28.487286</td>\n",
       "      <td>0.970035</td>\n",
       "    </tr>\n",
       "    <tr>\n",
       "      <th>1616</th>\n",
       "      <td>2012-01-11</td>\n",
       "      <td>29.825471</td>\n",
       "      <td>29.655968</td>\n",
       "      <td>1.009830</td>\n",
       "      <td>28.512265</td>\n",
       "      <td>0.970885</td>\n",
       "      <td>28.189317</td>\n",
       "      <td>0.959888</td>\n",
       "    </tr>\n",
       "    <tr>\n",
       "      <th>1617</th>\n",
       "      <td>2012-01-12</td>\n",
       "      <td>29.670242</td>\n",
       "      <td>29.825471</td>\n",
       "      <td>1.015602</td>\n",
       "      <td>29.655968</td>\n",
       "      <td>1.009830</td>\n",
       "      <td>28.512265</td>\n",
       "      <td>0.970885</td>\n",
       "    </tr>\n",
       "  </tbody>\n",
       "</table>\n",
       "</div>"
      ],
      "text/plain": [
       "           date  adj_close  1day_adj_close   1day_pe  2day_adj_close  \\\n",
       "1610 2012-01-03  27.443501       25.868011  1.099475       25.691371   \n",
       "1611 2012-01-04  28.189317       27.443501  0.934492       25.868011   \n",
       "1612 2012-01-05  28.487286       28.189317  0.959888       27.443501   \n",
       "1613 2012-01-06  28.189317       28.487286  0.970035       28.189317   \n",
       "1614 2012-01-09  28.512265       28.189317  0.959888       28.487286   \n",
       "1615 2012-01-10  29.655968       28.512265  0.970885       28.189317   \n",
       "1616 2012-01-11  29.825471       29.655968  1.009830       28.512265   \n",
       "1617 2012-01-12  29.670242       29.825471  1.015602       29.655968   \n",
       "\n",
       "       2day_pe  3day_adj_close   3day_pe  \n",
       "1610  1.091967       25.380912  1.078771  \n",
       "1611  1.099475       25.691371  1.091967  \n",
       "1612  0.934492       25.868011  1.099475  \n",
       "1613  0.959888       27.443501  0.934492  \n",
       "1614  0.970035       28.189317  0.959888  \n",
       "1615  0.959888       28.487286  0.970035  \n",
       "1616  0.970885       28.189317  0.959888  \n",
       "1617  1.009830       28.512265  0.970885  "
      ]
     },
     "execution_count": 31,
     "metadata": {},
     "output_type": "execute_result"
    }
   ],
   "source": [
    "dat2 = reader.construct_data(rolling=True,time_window = 3,thresh_date='2012-01-01')\n",
    "dat2.head(8)"
   ]
  }
 ],
 "metadata": {
  "kernelspec": {
   "display_name": "Python 3",
   "language": "python",
   "name": "python3"
  },
  "language_info": {
   "codemirror_mode": {
    "name": "ipython",
    "version": 3
   },
   "file_extension": ".py",
   "mimetype": "text/x-python",
   "name": "python",
   "nbconvert_exporter": "python",
   "pygments_lexer": "ipython3",
   "version": "3.6.0"
  }
 },
 "nbformat": 4,
 "nbformat_minor": 2
}
